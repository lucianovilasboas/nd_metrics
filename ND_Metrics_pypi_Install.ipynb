{
 "cells": [
  {
   "cell_type": "code",
   "execution_count": 7,
   "id": "274a63c0",
   "metadata": {},
   "outputs": [
    {
     "name": "stdout",
     "output_type": "stream",
     "text": [
      "Requirement already satisfied: nd-metrics in /home/luciano/anaconda3/envs/test-env/lib/python3.9/site-packages (0.0.3)\r\n",
      "Requirement already satisfied: numpy in /home/luciano/anaconda3/envs/test-env/lib/python3.9/site-packages (from nd-metrics) (1.20.2)\r\n"
     ]
    }
   ],
   "source": [
    "!pip install nd-metrics"
   ]
  },
  {
   "cell_type": "code",
   "execution_count": 4,
   "id": "452dcf88",
   "metadata": {},
   "outputs": [],
   "source": [
    "import numpy as np\n",
    "from nd_metrics import metrics\n",
    "from nd_metrics.utils import make_clusters"
   ]
  },
  {
   "cell_type": "code",
   "execution_count": 5,
   "id": "4b746203",
   "metadata": {},
   "outputs": [
    {
     "data": {
      "text/plain": [
       "{'ClusterFMetric': (0.5, 0.3333333333333333, 0.3999999520000058),\n",
       " 'KMetric': (0.7, 1.0, 0.8366600265340756),\n",
       " 'BCubedMetric': (0.7, 1.0, 0.823529363321802),\n",
       " 'SELEMetric': (0.0, 0.38461538461538464, 0.0),\n",
       " 'PairwiseFMetric': (0.5384615384615384, 1.0, 0.699999954500003)}"
      ]
     },
     "execution_count": 5,
     "metadata": {},
     "output_type": "execute_result"
    }
   ],
   "source": [
    "y_true = np.array([1,1,1,2,2,3,3,3])\n",
    "y_pred = np.array([1,1,1,2,2,2,2,2])\n",
    "\n",
    "y_true, y_pred = make_clusters(y_true, y_pred)\n",
    "\n",
    "metrics.all_metrics(y_true, y_pred)"
   ]
  },
  {
   "cell_type": "code",
   "execution_count": 8,
   "id": "8112a94d",
   "metadata": {},
   "outputs": [
    {
     "data": {
      "text/plain": [
       "(0.7, 1.0, 0.8366600265340756)"
      ]
     },
     "execution_count": 8,
     "metadata": {},
     "output_type": "execute_result"
    }
   ],
   "source": [
    "metrics.ND_KMetric(y_true,y_pred)()"
   ]
  }
 ],
 "metadata": {
  "kernelspec": {
   "display_name": "Python 3",
   "language": "python",
   "name": "python3"
  },
  "language_info": {
   "codemirror_mode": {
    "name": "ipython",
    "version": 3
   },
   "file_extension": ".py",
   "mimetype": "text/x-python",
   "name": "python",
   "nbconvert_exporter": "python",
   "pygments_lexer": "ipython3",
   "version": "3.9.4"
  }
 },
 "nbformat": 4,
 "nbformat_minor": 5
}
