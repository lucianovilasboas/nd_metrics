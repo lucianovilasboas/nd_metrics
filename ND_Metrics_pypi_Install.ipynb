{
 "cells": [
  {
   "cell_type": "code",
   "execution_count": 7,
   "id": "274a63c0",
   "metadata": {},
   "outputs": [
    {
     "name": "stdout",
     "output_type": "stream",
     "text": [
      "Requirement already satisfied: nd-metrics in /home/luciano/anaconda3/envs/test-env/lib/python3.9/site-packages (0.0.3)\r\n",
      "Requirement already satisfied: numpy in /home/luciano/anaconda3/envs/test-env/lib/python3.9/site-packages (from nd-metrics) (1.20.2)\r\n"
     ]
    }
   ],
   "source": [
    "!pip install nd-metrics"
   ]
  },
  {
   "cell_type": "code",
   "execution_count": 3,
   "id": "452dcf88",
   "metadata": {},
   "outputs": [],
   "source": [
    "import numpy as np\n",
    "from nd_metrics import metrics\n",
    "from nd_metrics.utils import make_clusters"
   ]
  },
  {
   "cell_type": "code",
   "execution_count": 4,
   "id": "4b746203",
   "metadata": {},
   "outputs": [
    {
     "output_type": "execute_result",
     "data": {
      "text/plain": [
       "{'ClusterFMetric': (0.5, 0.3333333333333333, 0.3999999520000058),\n",
       " 'KMetric': (0.7, 1.0, 0.8366600265340756),\n",
       " 'BCubedMetric': (0.7, 1.0, 0.823529363321802),\n",
       " 'SELEMetric': (0.0, 0.38461538461538464, 0.0),\n",
       " 'PairwiseFMetric': (0.5384615384615384, 1.0, 0.699999954500003)}"
      ]
     },
     "metadata": {},
     "execution_count": 4
    }
   ],
   "source": [
    "y_true = np.array([1,1,1,2,2,3,3,3])\n",
    "y_pred = np.array([1,1,1,2,2,2,2,2])\n",
    "\n",
    "y_true, y_pred = make_clusters(y_true, y_pred)\n",
    "\n",
    "metrics.all_metrics(y_true, y_pred)"
   ]
  },
  {
   "cell_type": "code",
   "execution_count": 5,
   "id": "8112a94d",
   "metadata": {},
   "outputs": [
    {
     "output_type": "execute_result",
     "data": {
      "text/plain": [
       "(0.7, 1.0, 0.8366600265340756)"
      ]
     },
     "metadata": {},
     "execution_count": 5
    }
   ],
   "source": [
    "metrics.ND_KMetric(y_true,y_pred)()"
   ]
  },
  {
   "cell_type": "code",
   "execution_count": 6,
   "metadata": {},
   "outputs": [],
   "source": [
    "y_true = {\n",
    "     '5': {0, 8, 2, 4}, \n",
    "     '2': {1}, \n",
    "     '0': {3}, \n",
    "    '14': {5}, \n",
    "     '7': {6}, \n",
    "     '8': {7}, \n",
    "    '13': {9}, \n",
    "    '15': {10}\n",
    "}\n",
    "\n",
    "y_pred = {\n",
    "        '5': {0, 8, 2, 4}, \n",
    "    '10000': {1}, \n",
    "        '0': {3, 5}, \n",
    "    '10001': {6}, \n",
    "        '8': {7}, \n",
    "    '10002': {9}, \n",
    "       '15': {10}\n",
    "}\n",
    "\n",
    "y_pred2= {\n",
    "        '5': {8, 2, 4}, \n",
    "    '10000': {1}, \n",
    "        '0': {3, 5}, \n",
    "    '10001': {6}, \n",
    "        '8': {7}, \n",
    "    '10002': {9}, \n",
    "       '15': {10, 0}\n",
    "}\n"
   ]
  },
  {
   "cell_type": "code",
   "execution_count": 8,
   "metadata": {},
   "outputs": [
    {
     "output_type": "execute_result",
     "data": {
      "text/plain": [
       "(0.8181818181818182, 0.8636363636363636, 0.8406019094957695)"
      ]
     },
     "metadata": {},
     "execution_count": 8
    }
   ],
   "source": [
    "metrics.ND_KMetric(y_true,y_pred2)()"
   ]
  }
 ],
 "metadata": {
  "kernelspec": {
   "name": "python3613jvsc74a57bd0bc9b77aa262136fbbe20e9862d9cca86a592e78b9b4bad3343e4f88122d1f6c1",
   "display_name": "Python 3.6.13 64-bit ('nd-env': conda)"
  },
  "language_info": {
   "codemirror_mode": {
    "name": "ipython",
    "version": 3
   },
   "file_extension": ".py",
   "mimetype": "text/x-python",
   "name": "python",
   "nbconvert_exporter": "python",
   "pygments_lexer": "ipython3",
   "version": "3.6.13"
  }
 },
 "nbformat": 4,
 "nbformat_minor": 5
}