{
 "cells": [
  {
   "cell_type": "code",
   "execution_count": 1,
   "id": "274a63c0",
   "metadata": {},
   "outputs": [
    {
     "name": "stdout",
     "output_type": "stream",
     "text": [
      "Requirement already satisfied: nd-metrics in /home/luciano/anaconda3/envs/test-env/lib/python3.9/site-packages (0.0.6)\r\n",
      "Requirement already satisfied: numpy in /home/luciano/anaconda3/envs/test-env/lib/python3.9/site-packages (from nd-metrics) (1.20.2)\r\n"
     ]
    }
   ],
   "source": [
    "!pip install nd-metrics"
   ]
  },
  {
   "cell_type": "code",
   "execution_count": 2,
   "id": "452dcf88",
   "metadata": {},
   "outputs": [],
   "source": [
    "import numpy as np\n",
    "from nd_metrics import metrics\n",
    "from nd_metrics.utils import make_clusters"
   ]
  },
  {
   "cell_type": "code",
   "execution_count": 3,
   "id": "4b746203",
   "metadata": {},
   "outputs": [
    {
     "data": {
      "text/plain": [
       "{'ClusterFMetric': (0.5, 0.3333333333333333, 0.3999999520000058),\n",
       " 'KMetric': (0.7, 1.0, 0.8366600265340756),\n",
       " 'BCubedMetric': (0.7, 1.0, 0.823529363321802),\n",
       " 'SELEMetric': (0.0, 0.38461538461538464, 0.0),\n",
       " 'PairwiseFMetric': (0.5384615384615384, 1.0, 0.699999954500003)}"
      ]
     },
     "execution_count": 3,
     "metadata": {},
     "output_type": "execute_result"
    }
   ],
   "source": [
    "y_true = np.array([1,1,1,2,2,3,3,3])\n",
    "y_pred = np.array([1,1,1,2,2,2,2,2])\n",
    "\n",
    "y_true, y_pred = make_clusters(y_true, y_pred)\n",
    "\n",
    "metrics.all_metrics(y_true, y_pred)"
   ]
  },
  {
   "cell_type": "code",
   "execution_count": 4,
   "id": "8112a94d",
   "metadata": {},
   "outputs": [
    {
     "data": {
      "text/plain": [
       "(0.7, 1.0, 0.8366600265340756)"
      ]
     },
     "execution_count": 4,
     "metadata": {},
     "output_type": "execute_result"
    }
   ],
   "source": [
    "metrics.ND_KMetric(y_true,y_pred)()"
   ]
  },
  {
   "cell_type": "markdown",
   "id": "f20c43b0",
   "metadata": {},
   "source": [
    "![](https://raw.githubusercontent.com/lucianovilasboas/nd_metrics/main/labels_test.png)"
   ]
  },
  {
   "cell_type": "code",
   "execution_count": 37,
   "id": "8784fb56",
   "metadata": {},
   "outputs": [],
   "source": [
    "y_true = {\n",
    "     '5': {0, 8, 2, 4}, \n",
    "     '2': {1}, \n",
    "     '0': {3}, \n",
    "    '14': {5}, \n",
    "     '7': {6}, \n",
    "     '8': {7}, \n",
    "    '13': {9}, \n",
    "    '15': {10}\n",
    "}\n",
    "\n",
    "# Max AAP\n",
    "y_pred = {\n",
    "        '5': {0, 8, 2, 4}, \n",
    "    '10000': {1}, \n",
    "        '0': {3, 5}, \n",
    "    '10001': {6}, \n",
    "        '8': {7}, \n",
    "    '10002': {9}, \n",
    "       '15': {10}\n",
    "}\n",
    "\n",
    "\n",
    "y_pred2= {\n",
    "        '5': {8, 2, 4}, \n",
    "    '10000': {1}, \n",
    "        '0': {3, 5}, \n",
    "    '10001': {6}, \n",
    "        '8': {7}, \n",
    "    '10002': {9}, \n",
    "       '15': {10, 0}\n",
    "}\n",
    "\n",
    "#Max ACP \n",
    "y_pred3= {\n",
    "        '5': {8, 2, 4}, \n",
    "    '10007': {0},\n",
    "    '10000': {1}, \n",
    "        '0': {3}, \n",
    "    '10009': {5}, \n",
    "    '10001': {6}, \n",
    "        '8': {7}, \n",
    "    '10002': {9}, \n",
    "       '15': {10}\n",
    "}\n",
    "\n",
    "\n",
    "# Max AAP\n",
    "y_pred4= {\n",
    "        '10000': {0,1,2,3,4,5,6,7,8,9,10}\n",
    "}"
   ]
  },
  {
   "cell_type": "code",
   "execution_count": 41,
   "id": "eb8aab43",
   "metadata": {},
   "outputs": [
    {
     "data": {
      "text/plain": [
       "(0.9090909090909091, 1.0, 0.9534625892455924)"
      ]
     },
     "execution_count": 41,
     "metadata": {},
     "output_type": "execute_result"
    }
   ],
   "source": [
    "metrics.ND_KMetric(y_true,y_pred)()"
   ]
  },
  {
   "cell_type": "code",
   "execution_count": 38,
   "id": "7724834f",
   "metadata": {},
   "outputs": [
    {
     "data": {
      "text/plain": [
       "(0.8181818181818182, 0.8636363636363636, 0.8406019094957695)"
      ]
     },
     "execution_count": 38,
     "metadata": {},
     "output_type": "execute_result"
    }
   ],
   "source": [
    "metrics.ND_KMetric(y_true,y_pred2)()"
   ]
  },
  {
   "cell_type": "code",
   "execution_count": 39,
   "id": "9c684b72",
   "metadata": {},
   "outputs": [
    {
     "data": {
      "text/plain": [
       "(1.0, 0.8636363636363636, 0.9293203772845852)"
      ]
     },
     "execution_count": 39,
     "metadata": {},
     "output_type": "execute_result"
    }
   ],
   "source": [
    "metrics.ND_KMetric(y_true,y_pred3)()"
   ]
  },
  {
   "cell_type": "code",
   "execution_count": 40,
   "id": "259c71c9",
   "metadata": {},
   "outputs": [
    {
     "data": {
      "text/plain": [
       "(0.19008264462809912, 1.0, 0.4359846839375199)"
      ]
     },
     "execution_count": 40,
     "metadata": {},
     "output_type": "execute_result"
    }
   ],
   "source": [
    "metrics.ND_KMetric(y_true,y_pred4)()"
   ]
  }
 ],
 "metadata": {
  "kernelspec": {
   "display_name": "Python 3",
   "language": "python",
   "name": "python3"
  },
  "language_info": {
   "codemirror_mode": {
    "name": "ipython",
    "version": 3
   },
   "file_extension": ".py",
   "mimetype": "text/x-python",
   "name": "python",
   "nbconvert_exporter": "python",
   "pygments_lexer": "ipython3",
   "version": "3.9.4"
  }
 },
 "nbformat": 4,
 "nbformat_minor": 5
}
